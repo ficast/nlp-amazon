{
 "cells": [
  {
   "cell_type": "markdown",
   "metadata": {
    "id": "CY1uLLfIfWun",
    "tags": []
   },
   "source": [
    "## **Step 1: Importing dependencies**"
   ]
  },
  {
   "cell_type": "code",
   "execution_count": 1,
   "metadata": {
    "id": "cZqrIhfCfuJJ"
   },
   "outputs": [],
   "source": [
    "import numpy as np\n",
    "import re\n",
    "import pandas as pd\n",
    "from bs4 import BeautifulSoup\n",
    "import csv\n",
    "\n",
    "import matplotlib.pyplot as plt\n",
    "# from google.colab import drive, files"
   ]
  },
  {
   "cell_type": "code",
   "execution_count": 2,
   "metadata": {
    "id": "CzH3I7jifv6e"
   },
   "outputs": [
    {
     "name": "stderr",
     "output_type": "stream",
     "text": [
      "/home/ficast/.local/lib/python3.10/site-packages/tqdm/auto.py:22: TqdmWarning: IProgress not found. Please update jupyter and ipywidgets. See https://ipywidgets.readthedocs.io/en/stable/user_install.html\n",
      "  from .autonotebook import tqdm as notebook_tqdm\n"
     ]
    },
    {
     "name": "stdout",
     "output_type": "stream",
     "text": [
      "/device:GPU:0\n"
     ]
    },
    {
     "name": "stderr",
     "output_type": "stream",
     "text": [
      "2022-07-24 12:17:04.772684: I tensorflow/core/platform/cpu_feature_guard.cc:151] This TensorFlow binary is optimized with oneAPI Deep Neural Network Library (oneDNN) to use the following CPU instructions in performance-critical operations:  AVX2 FMA\n",
      "To enable them in other operations, rebuild TensorFlow with the appropriate compiler flags.\n",
      "2022-07-24 12:17:05.431152: I tensorflow/core/common_runtime/gpu/gpu_device.cc:1525] Created device /device:GPU:0 with 5667 MB memory:  -> device: 0, name: NVIDIA GeForce RTX 3070 Laptop GPU, pci bus id: 0000:01:00.0, compute capability: 8.6\n"
     ]
    }
   ],
   "source": [
    "try:\n",
    "  %tensorflow_version 2.x\n",
    "except Exception:\n",
    "  pass\n",
    "import tensorflow as tf\n",
    "\n",
    "from tensorflow.keras import layers\n",
    "import tqdm as notebook_tqdm\n",
    "\n",
    "import tensorflow_datasets as tfds\n",
    "print(tf.test.gpu_device_name())\n"
   ]
  },
  {
   "cell_type": "markdown",
   "metadata": {
    "id": "3SJhklSJhJm5"
   },
   "source": [
    "## **Step 2: Data preprocessing**"
   ]
  },
  {
   "cell_type": "markdown",
   "metadata": {
    "id": "ICVbkzIJ5Q3i"
   },
   "source": [
    "### Loading data\n"
   ]
  },
  {
   "cell_type": "code",
   "execution_count": 3,
   "metadata": {
    "colab": {
     "base_uri": "https://localhost:8080/"
    },
    "executionInfo": {
     "elapsed": 42102,
     "status": "ok",
     "timestamp": 1650262035627,
     "user": {
      "displayName": "Filipe de Castro",
      "userId": "11069743125654728085"
     },
     "user_tz": -60
    },
    "id": "EBv855ckhA5Y",
    "outputId": "839c6435-6fee-46c0-b3aa-7d53f1e214ea"
   },
   "outputs": [],
   "source": [
    "# Just required for run it in google colab\n",
    "# drive.mount('/content/drive')"
   ]
  },
  {
   "cell_type": "code",
   "execution_count": 4,
   "metadata": {
    "id": "NNkdwusgiYa_"
   },
   "outputs": [],
   "source": [
    "cols= [\"text\"]\n",
    "# path = \"/content/drive/MyDrive/projeto/Projeto II - BDI Uniasselvi/Dataset AMAZON/amazon_train.ft.txt\"\n",
    "path = \"./amazon.ft.txt\"\n",
    "\n",
    "f = open(path, encoding=\"latin\")\n",
    "\n",
    "data = []\n",
    "for line in f:\n",
    "    data_line = [line[9], line[11:]]\n",
    "    data.append(data_line)"
   ]
  },
  {
   "cell_type": "code",
   "execution_count": 5,
   "metadata": {
    "colab": {
     "base_uri": "https://localhost:8080/",
     "height": 269
    },
    "executionInfo": {
     "elapsed": 50,
     "status": "ok",
     "timestamp": 1650262044458,
     "user": {
      "displayName": "Filipe de Castro",
      "userId": "11069743125654728085"
     },
     "user_tz": -60
    },
    "id": "caoL4ivgnneV",
    "outputId": "1cfcc34a-cdea-4e7d-fb6c-612a51379331"
   },
   "outputs": [
    {
     "data": {
      "text/html": [
       "<div>\n",
       "<style scoped>\n",
       "    .dataframe tbody tr th:only-of-type {\n",
       "        vertical-align: middle;\n",
       "    }\n",
       "\n",
       "    .dataframe tbody tr th {\n",
       "        vertical-align: top;\n",
       "    }\n",
       "\n",
       "    .dataframe thead th {\n",
       "        text-align: right;\n",
       "    }\n",
       "</style>\n",
       "<table border=\"1\" class=\"dataframe\">\n",
       "  <thead>\n",
       "    <tr style=\"text-align: right;\">\n",
       "      <th></th>\n",
       "      <th>label</th>\n",
       "      <th>text</th>\n",
       "    </tr>\n",
       "  </thead>\n",
       "  <tbody>\n",
       "    <tr>\n",
       "      <th>0</th>\n",
       "      <td>2</td>\n",
       "      <td>Great CD: My lovely Pat has one of the GREAT v...</td>\n",
       "    </tr>\n",
       "    <tr>\n",
       "      <th>1</th>\n",
       "      <td>2</td>\n",
       "      <td>One of the best game music soundtracks - for a...</td>\n",
       "    </tr>\n",
       "    <tr>\n",
       "      <th>2</th>\n",
       "      <td>1</td>\n",
       "      <td>Batteries died within a year ...: I bought thi...</td>\n",
       "    </tr>\n",
       "    <tr>\n",
       "      <th>3</th>\n",
       "      <td>2</td>\n",
       "      <td>works fine, but Maha Energy is better: Check o...</td>\n",
       "    </tr>\n",
       "    <tr>\n",
       "      <th>4</th>\n",
       "      <td>2</td>\n",
       "      <td>Great for the non-audiophile: Reviewed quite a...</td>\n",
       "    </tr>\n",
       "    <tr>\n",
       "      <th>5</th>\n",
       "      <td>1</td>\n",
       "      <td>DVD Player crapped out after one year: I also ...</td>\n",
       "    </tr>\n",
       "    <tr>\n",
       "      <th>6</th>\n",
       "      <td>1</td>\n",
       "      <td>Incorrect Disc: I love the style of this, but ...</td>\n",
       "    </tr>\n",
       "  </tbody>\n",
       "</table>\n",
       "</div>"
      ],
      "text/plain": [
       "  label                                               text\n",
       "0     2  Great CD: My lovely Pat has one of the GREAT v...\n",
       "1     2  One of the best game music soundtracks - for a...\n",
       "2     1  Batteries died within a year ...: I bought thi...\n",
       "3     2  works fine, but Maha Energy is better: Check o...\n",
       "4     2  Great for the non-audiophile: Reviewed quite a...\n",
       "5     1  DVD Player crapped out after one year: I also ...\n",
       "6     1  Incorrect Disc: I love the style of this, but ..."
      ]
     },
     "execution_count": 5,
     "metadata": {},
     "output_type": "execute_result"
    }
   ],
   "source": [
    "df = pd.DataFrame(data, columns=['label', 'text'])\n",
    "df.head(7)\n"
   ]
  },
  {
   "cell_type": "markdown",
   "metadata": {
    "id": "5-vAdvNK5XZA"
   },
   "source": [
    "### Cleaning and preparing"
   ]
  },
  {
   "cell_type": "code",
   "execution_count": 6,
   "metadata": {
    "colab": {
     "base_uri": "https://localhost:8080/",
     "height": 269
    },
    "executionInfo": {
     "elapsed": 45,
     "status": "ok",
     "timestamp": 1650262044459,
     "user": {
      "displayName": "Filipe de Castro",
      "userId": "11069743125654728085"
     },
     "user_tz": -60
    },
    "id": "2ac8Nhla04Tg",
    "outputId": "637b6916-3197-442c-fc2c-9c342352bb66"
   },
   "outputs": [
    {
     "data": {
      "text/html": [
       "<div>\n",
       "<style scoped>\n",
       "    .dataframe tbody tr th:only-of-type {\n",
       "        vertical-align: middle;\n",
       "    }\n",
       "\n",
       "    .dataframe tbody tr th {\n",
       "        vertical-align: top;\n",
       "    }\n",
       "\n",
       "    .dataframe thead th {\n",
       "        text-align: right;\n",
       "    }\n",
       "</style>\n",
       "<table border=\"1\" class=\"dataframe\">\n",
       "  <thead>\n",
       "    <tr style=\"text-align: right;\">\n",
       "      <th></th>\n",
       "      <th>text</th>\n",
       "      <th>label</th>\n",
       "    </tr>\n",
       "  </thead>\n",
       "  <tbody>\n",
       "    <tr>\n",
       "      <th>0</th>\n",
       "      <td>Great CD: My lovely Pat has one of the GREAT v...</td>\n",
       "      <td>1</td>\n",
       "    </tr>\n",
       "    <tr>\n",
       "      <th>1</th>\n",
       "      <td>One of the best game music soundtracks - for a...</td>\n",
       "      <td>1</td>\n",
       "    </tr>\n",
       "    <tr>\n",
       "      <th>2</th>\n",
       "      <td>Batteries died within a year ...: I bought thi...</td>\n",
       "      <td>0</td>\n",
       "    </tr>\n",
       "    <tr>\n",
       "      <th>3</th>\n",
       "      <td>works fine, but Maha Energy is better: Check o...</td>\n",
       "      <td>1</td>\n",
       "    </tr>\n",
       "    <tr>\n",
       "      <th>4</th>\n",
       "      <td>Great for the non-audiophile: Reviewed quite a...</td>\n",
       "      <td>1</td>\n",
       "    </tr>\n",
       "    <tr>\n",
       "      <th>5</th>\n",
       "      <td>DVD Player crapped out after one year: I also ...</td>\n",
       "      <td>0</td>\n",
       "    </tr>\n",
       "    <tr>\n",
       "      <th>6</th>\n",
       "      <td>Incorrect Disc: I love the style of this, but ...</td>\n",
       "      <td>0</td>\n",
       "    </tr>\n",
       "  </tbody>\n",
       "</table>\n",
       "</div>"
      ],
      "text/plain": [
       "                                                text  label\n",
       "0  Great CD: My lovely Pat has one of the GREAT v...      1\n",
       "1  One of the best game music soundtracks - for a...      1\n",
       "2  Batteries died within a year ...: I bought thi...      0\n",
       "3  works fine, but Maha Energy is better: Check o...      1\n",
       "4  Great for the non-audiophile: Reviewed quite a...      1\n",
       "5  DVD Player crapped out after one year: I also ...      0\n",
       "6  Incorrect Disc: I love the style of this, but ...      0"
      ]
     },
     "execution_count": 6,
     "metadata": {},
     "output_type": "execute_result"
    }
   ],
   "source": [
    "df['label'] = np.where(df['label'] == \"2\", 1, 0)\n",
    "df = df[['text', 'label']]\n",
    "df.head(7)"
   ]
  },
  {
   "cell_type": "code",
   "execution_count": 7,
   "metadata": {
    "colab": {
     "base_uri": "https://localhost:8080/"
    },
    "executionInfo": {
     "elapsed": 40,
     "status": "ok",
     "timestamp": 1650262044460,
     "user": {
      "displayName": "Filipe de Castro",
      "userId": "11069743125654728085"
     },
     "user_tz": -60
    },
    "id": "hqUgZ1ak7-Mm",
    "outputId": "883cb8c8-894c-456c-fb65-1aa7ebea60ce"
   },
   "outputs": [
    {
     "data": {
      "text/plain": [
       "{0, 1}"
      ]
     },
     "execution_count": 7,
     "metadata": {},
     "output_type": "execute_result"
    }
   ],
   "source": [
    "data_labels = df.label.values\n",
    "set(data_labels)"
   ]
  },
  {
   "cell_type": "code",
   "execution_count": 8,
   "metadata": {
    "id": "-d3ukNMT4fdW"
   },
   "outputs": [],
   "source": [
    "def clean(text):\n",
    "  # text = BeautifulSoup(text).get_text()\n",
    "  text = re.sub(r\"@[A-Za-z0-9]+\", \" \", text)\n",
    "  text = re.sub(r\"https?://[A-Za-z0-9./]+\", \" \", text)\n",
    "  text = re.sub(r\"[^A-Za-z0-9]\", \" \", text)\n",
    "  text = re.sub(r\" +\", \" \", text)\n",
    "  return text"
   ]
  },
  {
   "cell_type": "code",
   "execution_count": 9,
   "metadata": {
    "id": "JqIYeGWz5uRl"
   },
   "outputs": [],
   "source": [
    "data_clean = [clean(line) for line in df.text]"
   ]
  },
  {
   "cell_type": "code",
   "execution_count": 10,
   "metadata": {
    "colab": {
     "base_uri": "https://localhost:8080/"
    },
    "executionInfo": {
     "elapsed": 23,
     "status": "ok",
     "timestamp": 1650262290438,
     "user": {
      "displayName": "Filipe de Castro",
      "userId": "11069743125654728085"
     },
     "user_tz": -60
    },
    "id": "W73dKrnz7Raj",
    "outputId": "001e096e-63a7-49cf-df26-08a9d5c94daa"
   },
   "outputs": [
    {
     "data": {
      "text/plain": [
       "'Great Read Suspenseful When I first started reading the book I kept putting it down it just wasn t grabbing my attention but once I got further into the book my curiosity got the best of me I couldn t put the book down I could not believe that a woman would do the things that she did Adrian Jenkins was confused and deceitful All hell does break loose Gregory s relationship with his mother was sad I understand her point for leaving but at the same time it was selfish It not only destroyed Gregory but it also destroyed his little sister I am definately looking forward to her next book '"
      ]
     },
     "execution_count": 10,
     "metadata": {},
     "output_type": "execute_result"
    }
   ],
   "source": [
    "data_clean[1093]"
   ]
  },
  {
   "cell_type": "markdown",
   "metadata": {
    "id": "XpayXlkCQ1e-"
   },
   "source": [
    "### Tokenizing"
   ]
  },
  {
   "cell_type": "code",
   "execution_count": 11,
   "metadata": {
    "id": "3gsfR6z3QpoZ"
   },
   "outputs": [],
   "source": [
    "from tensorflow.keras.preprocessing.text import Tokenizer\n",
    "from tensorflow.keras.preprocessing.sequence import pad_sequences"
   ]
  },
  {
   "cell_type": "code",
   "execution_count": 12,
   "metadata": {
    "id": "_noyJwlMRz1L"
   },
   "outputs": [],
   "source": [
    "num_words = 100000\n",
    "oov_token = '<UNK>'\n",
    "pad_type = 'post'\n",
    "trunc_type = 'post'"
   ]
  },
  {
   "cell_type": "code",
   "execution_count": 13,
   "metadata": {
    "id": "cmclDbAzR6Nt"
   },
   "outputs": [
    {
     "name": "stdout",
     "output_type": "stream",
     "text": [
      "249\n"
     ]
    }
   ],
   "source": [
    "# Tokenize our training data\n",
    "tokenizer = Tokenizer(num_words=num_words, oov_token=oov_token)\n",
    "tokenizer.fit_on_texts(data_clean)\n",
    "\n",
    "# Get our training data word index\n",
    "word_index = tokenizer.word_index\n",
    "\n",
    "# Encode training data sentences into sequences\n",
    "train_sequences = tokenizer.texts_to_sequences(data_clean)\n",
    "\n",
    "# Get max training sequence length\n",
    "maxlen = max([len(x) for x in train_sequences])\n",
    "print(maxlen)\n",
    "\n",
    "# Pad the training sequences\n",
    "train_padded = pad_sequences(train_sequences, padding=pad_type, truncating=trunc_type, maxlen=maxlen)"
   ]
  },
  {
   "cell_type": "code",
   "execution_count": null,
   "metadata": {},
   "outputs": [],
   "source": []
  },
  {
   "cell_type": "markdown",
   "metadata": {
    "id": "Elx9QqiwTrUi"
   },
   "source": [
    "### Split train / test"
   ]
  },
  {
   "cell_type": "code",
   "execution_count": 14,
   "metadata": {
    "id": "AP-spDmhSGUj"
   },
   "outputs": [],
   "source": [
    "size = len(train_padded)\n",
    "test_idx = np.random.randint(0, size, round(size/10))"
   ]
  },
  {
   "cell_type": "code",
   "execution_count": 15,
   "metadata": {
    "id": "yETq9tAiUsdi"
   },
   "outputs": [],
   "source": [
    "test_inputs = train_padded[test_idx]\n",
    "test_labels = data_labels[test_idx]"
   ]
  },
  {
   "cell_type": "code",
   "execution_count": 16,
   "metadata": {
    "id": "pXuMhVAAXeXg"
   },
   "outputs": [],
   "source": [
    "train_inputs = np.delete(train_padded, test_idx, axis=0)"
   ]
  },
  {
   "cell_type": "code",
   "execution_count": 17,
   "metadata": {
    "id": "vDoNTU66Y9oD"
   },
   "outputs": [],
   "source": [
    "train_labels = np.delete(data_labels, test_idx)"
   ]
  },
  {
   "cell_type": "markdown",
   "metadata": {
    "id": "B01Pl6yiZUQ_"
   },
   "source": [
    "## **Step 3: Building the Model**"
   ]
  },
  {
   "cell_type": "code",
   "execution_count": 18,
   "metadata": {
    "id": "Jj7k912FZTV1"
   },
   "outputs": [
    {
     "name": "stderr",
     "output_type": "stream",
     "text": [
      "2022-07-24 12:19:20.215469: I tensorflow/core/common_runtime/gpu/gpu_device.cc:1525] Created device /job:localhost/replica:0/task:0/device:GPU:0 with 5667 MB memory:  -> device: 0, name: NVIDIA GeForce RTX 3070 Laptop GPU, pci bus id: 0000:01:00.0, compute capability: 8.6\n"
     ]
    }
   ],
   "source": [
    "from tensorflow.keras.models import Sequential\n",
    "from tensorflow.keras.layers import Dense, Conv1D, Flatten, GlobalMaxPool1D, Embedding, Dropout\n",
    "\n",
    "# params\n",
    "vocab_size=num_words\n",
    "emb_dim=200\n",
    "nb_filters=100\n",
    "FFN_units=256\n",
    "nb_classes=len(set(train_labels))\n",
    "dropout_rate=0.2\n",
    "\n",
    "# create model\n",
    "model = Sequential()\n",
    "\n",
    "model.add(Embedding(vocab_size, emb_dim))\n",
    "\n",
    "model.add(Conv1D(filters=nb_filters,\n",
    "                         kernel_size=2,\n",
    "                         padding=\"valid\",\n",
    "                         activation=\"relu\"))\n",
    "    \n",
    "model.add(GlobalMaxPool1D())\n",
    "\n",
    "model.add(Dense(units=FFN_units, activation=\"relu\"))\n",
    "\n",
    "model.add(Dropout(rate=dropout_rate))\n",
    "\n",
    "if nb_classes == 2:\n",
    "    model.add(Dense(units=1, activation=\"sigmoid\"))\n",
    "else:\n",
    "    model.add(Dense(units=nb_classes, activation=\"softmax\"))\n",
    "\n"
   ]
  },
  {
   "cell_type": "markdown",
   "metadata": {
    "id": "Yx_GMdnUdDWS"
   },
   "source": [
    "## **Stpe 4: Training Model**"
   ]
  },
  {
   "cell_type": "markdown",
   "metadata": {
    "id": "NqWnKiVMeV19"
   },
   "source": [
    "### Train"
   ]
  },
  {
   "cell_type": "code",
   "execution_count": 19,
   "metadata": {
    "id": "pcZ1USiGe9NR",
    "tags": []
   },
   "outputs": [],
   "source": [
    "if nb_classes == 2:\n",
    "    model.compile(loss=\"binary_crossentropy\",\n",
    "                optimizer=\"adam\",\n",
    "                metrics=[\"accuracy\"])\n",
    "else:\n",
    "    model.compile(loss=\"sparse_categorical_crossentropy\",\n",
    "                optimizer=\"adam\",\n",
    "                metrics=[\"sparse_categorical_accuracy\"])"
   ]
  },
  {
   "cell_type": "code",
   "execution_count": 20,
   "metadata": {
    "id": "YW_mAcoFf0LO"
   },
   "outputs": [],
   "source": [
    "checkpoint_path = \"/checkpoint\"\n",
    "ckpt = tf.train.Checkpoint(model=model)\n",
    "ckpt_manager = tf.train.CheckpointManager(ckpt, checkpoint_path, max_to_keep=1)\n",
    "\n",
    "if ckpt_manager.latest_checkpoint:\n",
    "    ckpt.restore(ckpt_manager.latest_checkpoint)\n",
    "    print(\"Checkpoint looaded from {}\".format(ckpt_manager.latest_checkpoint))"
   ]
  },
  {
   "cell_type": "code",
   "execution_count": 21,
   "metadata": {
    "colab": {
     "base_uri": "https://localhost:8080/"
    },
    "id": "lDV7iWVrgNHX",
    "outputId": "95d86caf-1e10-47fb-fdf0-a76607e8cab6"
   },
   "outputs": [
    {
     "name": "stderr",
     "output_type": "stream",
     "text": [
      "2022-07-24 12:19:20.339957: W tensorflow/core/framework/cpu_allocator_impl.cc:82] Allocation of 1305569748 exceeds 10% of free system memory.\n"
     ]
    },
    {
     "name": "stdout",
     "output_type": "stream",
     "text": [
      "Epoch 1/10\n"
     ]
    },
    {
     "name": "stderr",
     "output_type": "stream",
     "text": [
      "2022-07-24 12:19:22.480061: I tensorflow/stream_executor/cuda/cuda_dnn.cc:368] Loaded cuDNN version 8100\n",
      "2022-07-24 12:19:23.438523: I tensorflow/core/platform/default/subprocess.cc:304] Start cannot spawn child process: No such file or directory\n",
      "2022-07-24 12:19:24.623205: I tensorflow/stream_executor/cuda/cuda_blas.cc:1786] TensorFloat-32 will be used for the matrix multiplication. This will only be logged once.\n"
     ]
    },
    {
     "name": "stdout",
     "output_type": "stream",
     "text": [
      "40963/40963 [==============================] - 604s 15ms/step - loss: 0.2019 - accuracy: 0.9205\n",
      "Epoch 2/10\n",
      "40963/40963 [==============================] - 694s 17ms/step - loss: 0.1570 - accuracy: 0.9420\n",
      "Epoch 3/10\n",
      "40963/40963 [==============================] - 653s 16ms/step - loss: 0.1299 - accuracy: 0.9539\n",
      "Epoch 4/10\n",
      "40963/40963 [==============================] - 638s 16ms/step - loss: 0.1054 - accuracy: 0.9638\n",
      "Epoch 5/10\n",
      "40963/40963 [==============================] - 633s 15ms/step - loss: 0.0831 - accuracy: 0.9723\n",
      "Epoch 6/10\n",
      "40963/40963 [==============================] - 634s 15ms/step - loss: 0.0647 - accuracy: 0.9789\n",
      "Epoch 7/10\n",
      "40963/40963 [==============================] - 636s 16ms/step - loss: 0.0502 - accuracy: 0.9840\n",
      "Epoch 8/10\n",
      "40963/40963 [==============================] - 637s 16ms/step - loss: 0.0387 - accuracy: 0.9878\n",
      "Epoch 9/10\n",
      "40963/40963 [==============================] - 647s 16ms/step - loss: 0.0302 - accuracy: 0.9905\n",
      "Epoch 10/10\n",
      "40963/40963 [==============================] - 653s 16ms/step - loss: 0.0243 - accuracy: 0.9924\n"
     ]
    }
   ],
   "source": [
    "#params\n",
    "BATCH_SIZE = 32\n",
    "NB_EPOCHS = 10\n",
    "\n",
    "history = model.fit(train_inputs,\n",
    "                    train_labels,\n",
    "                    batch_size=BATCH_SIZE,\n",
    "                    epochs=NB_EPOCHS)\n"
   ]
  },
  {
   "cell_type": "markdown",
   "metadata": {},
   "source": [
    "### Visualize Model"
   ]
  },
  {
   "cell_type": "code",
   "execution_count": 22,
   "metadata": {},
   "outputs": [
    {
     "name": "stdout",
     "output_type": "stream",
     "text": [
      "Model: \"sequential\"\n",
      "_________________________________________________________________\n",
      " Layer (type)                Output Shape              Param #   \n",
      "=================================================================\n",
      " embedding (Embedding)       (None, None, 200)         20000000  \n",
      "                                                                 \n",
      " conv1d (Conv1D)             (None, None, 100)         40100     \n",
      "                                                                 \n",
      " global_max_pooling1d (Globa  (None, 100)              0         \n",
      " lMaxPooling1D)                                                  \n",
      "                                                                 \n",
      " dense (Dense)               (None, 256)               25856     \n",
      "                                                                 \n",
      " dropout (Dropout)           (None, 256)               0         \n",
      "                                                                 \n",
      " dense_1 (Dense)             (None, 1)                 257       \n",
      "                                                                 \n",
      "=================================================================\n",
      "Total params: 20,066,213\n",
      "Trainable params: 20,066,213\n",
      "Non-trainable params: 0\n",
      "_________________________________________________________________\n",
      "None\n"
     ]
    }
   ],
   "source": [
    "print(model.summary())"
   ]
  },
  {
   "cell_type": "code",
   "execution_count": 23,
   "metadata": {},
   "outputs": [
    {
     "data": {
      "image/png": "[encoded data removed]",
      "text/plain": [
       "<IPython.core.display.Image object>"
      ]
     },
     "execution_count": 23,
     "metadata": {},
     "output_type": "execute_result"
    }
   ],
   "source": [
    "tf.keras.utils.plot_model(model, to_file=\"assets/model_plot.png\", show_shapes=True)"
   ]
  },
  {
   "cell_type": "markdown",
   "metadata": {
    "id": "WblHNYjehLa2"
   },
   "source": [
    "## **Step 5: Model evaluation**"
   ]
  },
  {
   "cell_type": "code",
   "execution_count": 47,
   "metadata": {},
   "outputs": [
    {
     "name": "stdout",
     "output_type": "stream",
     "text": [
      "4527/4527 - 4s - loss: 0.3360 - accuracy: 0.9175 - 4s/epoch - 902us/step\n"
     ]
    }
   ],
   "source": [
    "test_loss, test_acc = model.evaluate(test_inputs, test_labels, batch_size=BATCH_SIZE, verbose=2)"
   ]
  },
  {
   "cell_type": "code",
   "execution_count": 49,
   "metadata": {},
   "outputs": [],
   "source": [
    "import pickle\n",
    "\n",
    "# saving\n",
    "with open('tokenizer.pickle', 'wb') as handle:\n",
    "    pickle.dump(tokenizer, handle, protocol=pickle.HIGHEST_PROTOCOL)"
   ]
  },
  {
   "cell_type": "code",
   "execution_count": 25,
   "metadata": {},
   "outputs": [
    {
     "name": "stdout",
     "output_type": "stream",
     "text": [
      "0.9174709320068359\n"
     ]
    }
   ],
   "source": [
    "print(test_acc)"
   ]
  },
  {
   "cell_type": "code",
   "execution_count": 45,
   "metadata": {},
   "outputs": [],
   "source": [
    "def predict(list_of_sequences):\n",
    "    sentences = tokenizer.texts_to_sequences(list_of_sequences)\n",
    "    predict_padded = pad_sequences(sentences, padding=pad_type, truncating=trunc_type, maxlen=maxlen)\n",
    "    print(predict_padded)\n",
    "    for i in model.predict(predict_padded):\n",
    "        print([i, \"Positive\" if i > 0.5 else \"Negative\"])"
   ]
  },
  {
   "cell_type": "code",
   "execution_count": 37,
   "metadata": {},
   "outputs": [
    {
     "name": "stdout",
     "output_type": "stream",
     "text": [
      "[[3, 79, 9], [3, 42, 88, 5, 107, 27, 8, 9, 159, 184], [346, 5, 35, 938], [3, 2250, 51, 9, 10, 402, 3, 45, 33, 6, 23, 109, 7, 1110]]\n",
      "[array([0.9570017], dtype=float32), 'Positive']\n",
      "[array([0.6624592], dtype=float32), 'Positive']\n",
      "[array([0.9999579], dtype=float32), 'Positive']\n",
      "[array([0.9716833], dtype=float32), 'Positive']\n"
     ]
    }
   ],
   "source": [
    "predict([\"I love this\", \n",
    "         \"I can buy a new one of this every year\", \n",
    "         \"Definitely a good choice\",\n",
    "         \"I wanna more this is awesome I would like to have bought it earlier\",\n",
    "         ])\n"
   ]
  },
  {
   "cell_type": "code",
   "execution_count": 38,
   "metadata": {},
   "outputs": [
    {
     "name": "stdout",
     "output_type": "stream",
     "text": [
      "[[3, 521, 33, 9, 22, 269, 36, 1193], [3, 1297, 146, 9, 665, 150], [17, 240, 31, 9, 10, 5, 35, 938, 12, 14, 12, 47, 120, 444, 787], [9, 38, 12, 24, 9581, 120, 1017, 6, 123, 9, 202, 3, 487, 120, 2, 279, 169, 2187, 109, 11, 24, 149]]\n",
      "[array([0.00303382], dtype=float32), 'Negative']\n",
      "[array([0.00012697], dtype=float32), 'Negative']\n",
      "[array([0.00752919], dtype=float32), 'Negative']\n",
      "[array([0.93913686], dtype=float32), 'Positive']\n"
     ]
    }
   ],
   "source": [
    "predict([\"I dont like this book, seems very silly\", \n",
    "         \"I cant recommend this brand again\",\n",
    "         \"Not sure if this is a good choice for you, for me its absolutely useless\",\n",
    "         \"This? Just for my haters. Its impossible to make this works. I guess its the worst game Ive bought in my life\"\n",
    "         ])"
   ]
  },
  {
   "cell_type": "markdown",
   "metadata": {},
   "source": [
    "### Save model"
   ]
  },
  {
   "cell_type": "code",
   "execution_count": 39,
   "metadata": {},
   "outputs": [
    {
     "name": "stdout",
     "output_type": "stream",
     "text": [
      "INFO:tensorflow:Assets written to: amazon_nlp/assets\n"
     ]
    }
   ],
   "source": [
    "model.save(\"amazon_nlp\", save_format='tf')"
   ]
  },
  {
   "cell_type": "code",
   "execution_count": 40,
   "metadata": {},
   "outputs": [
    {
     "name": "stdout",
     "output_type": "stream",
     "text": [
      "['Dove sensitive skin bar soap was recommended by my dermatologist as the most hypoallergenic soap available Previously I had been using another brand touting that it was so pure it floats The doctor said that it was actually one of the harshest soaps out there yikes I have had nothing but good results with Dove sensitive skin It s unscented effective but doesn t dry out my skin Amazon almost always has the best price especially if you do subscribe and save ']\n"
     ]
    }
   ],
   "source": [
    "comment = clean('Dove sensitive skin bar soap was recommended by my dermatologist as the most hypoallergenic soap available. Previously, I had been using another brand touting that it was \"so pure it floats\". The doctor said that it was actually one of the harshest soaps out there - yikes!I have had nothing but good results with Dove sensitive skin. It\\'s unscented & effective, but doesn\\'t dry out my skin. Amazon almost always has the best price, especially if you do subscribe and save.')\n",
    "print([comment])"
   ]
  },
  {
   "cell_type": "code",
   "execution_count": 41,
   "metadata": {},
   "outputs": [
    {
     "name": "stdout",
     "output_type": "stream",
     "text": [
      "[[7832, 2174, 1047, 1503, 2095, 15, 530, 55, 24, 18649, 25, 2, 117, 42389, 2095, 611, 2094, 3, 54, 91, 268, 153, 665, 24072, 13, 7, 15, 30, 1042, 7, 13084, 2, 1967, 278, 13, 7, 15, 245, 27, 8, 2, 43006, 14469, 43, 53, 8110, 3, 23, 54, 198, 18, 35, 1142, 20, 7832, 2174, 1047, 7, 16, 18691, 1643, 18, 170, 19, 947, 43, 24, 1047, 191, 265, 241, 49, 2, 84, 188, 352, 31, 14, 68, 7827, 4, 414]]\n",
      "[array([0.9941239], dtype=float32), 'Positive']\n"
     ]
    }
   ],
   "source": [
    "predict([comment])"
   ]
  },
  {
   "cell_type": "code",
   "execution_count": 42,
   "metadata": {},
   "outputs": [
    {
     "name": "stdout",
     "output_type": "stream",
     "text": [
      "[[3, 365, 5, 901, 13, 15, 732, 6, 1216, 1788, 2774, 8, 2095, 18, 63, 230, 643, 4572, 1197, 10, 86, 75, 124, 12, 230, 2774, 8, 2095, 3, 500, 191, 16, 297, 394, 18, 2234, 126, 4747, 4, 3, 42, 19, 142, 97, 78, 16754, 12, 295, 2, 4385, 553, 2774, 3, 95, 240, 2, 2095, 10, 327, 3, 79, 7832, 18, 9, 373, 700, 116, 41, 727, 1639]]\n",
      "[array([1.7384283e-06], dtype=float32), 'Negative']\n"
     ]
    }
   ],
   "source": [
    "comment_neg = clean(\"I ordered a package that was supposed to include 24 bars of soap, but only 4 arrived. $26.00 is too much money for 4 bars of soap! I called Amazon's help line but nobody ever answered, and I can't find any other recourse for getting the remaining 20 bars. I'm sure the soap is fine--I love Dove--but this order turned into an expensive error.\")\n",
    "predict([comment_neg])"
   ]
  },
  {
   "cell_type": "code",
   "execution_count": 43,
   "metadata": {},
   "outputs": [
    {
     "name": "stdout",
     "output_type": "stream",
     "text": [
      "[[2, 98, 4, 2, 358, 26, 1985, 4, 13858, 219]]\n",
      "[array([0.4071476], dtype=float32), 'Negative']\n"
     ]
    }
   ],
   "source": [
    "predict([\"The product and the box are damaged and wrinkled!!!Disappointed!!!\"])"
   ]
  },
  {
   "cell_type": "code",
   "execution_count": 46,
   "metadata": {},
   "outputs": [
    {
     "name": "stdout",
     "output_type": "stream",
     "text": [
      "[[    3   747     5  6110    12     5   107    22    18    48   643    15\n",
      "   1992     4    54   908    91   156     3   747     5  6110    12     5\n",
      "    107    22    18    48   643    15  1992     4    54   908    91   156\n",
      "      0     0     0     0     0     0     0     0     0     0     0     0\n",
      "      0     0     0     0     0     0     0     0     0     0     0     0\n",
      "      0     0     0     0     0     0     0     0     0     0     0     0\n",
      "      0     0     0     0     0     0     0     0     0     0     0     0\n",
      "      0     0     0     0     0     0     0     0     0     0     0     0\n",
      "      0     0     0     0     0     0     0     0     0     0     0     0\n",
      "      0     0     0     0     0     0     0     0     0     0     0     0\n",
      "      0     0     0     0     0     0     0     0     0     0     0     0\n",
      "      0     0     0     0     0     0     0     0     0     0     0     0\n",
      "      0     0     0     0     0     0     0     0     0     0     0     0\n",
      "      0     0     0     0     0     0     0     0     0     0     0     0\n",
      "      0     0     0     0     0     0     0     0     0     0     0     0\n",
      "      0     0     0     0     0     0     0     0     0     0     0     0\n",
      "      0     0     0     0     0     0     0     0     0     0     0     0\n",
      "      0     0     0     0     0     0     0     0     0     0     0     0\n",
      "      0     0     0     0     0     0     0     0     0     0     0     0\n",
      "      0     0     0     0     0     0     0     0     0     0     0     0\n",
      "      0     0     0     0     0     0     0     0     0]\n",
      " [    3    99   268     2   881  6310    21    24  8128     6   710     9\n",
      "     22   186    66     8     2  9632    26    38    36 11539   759     6\n",
      "      2  5911   744     3   389    61     4   637     6   143   119     6\n",
      "      5  2502    22     7    45    28    32    31     9    10  2374    78\n",
      "    132    23   100 13508   863  5075   119   208   184     4     1   127\n",
      "     17  2374     0     0     0     0     0     0     0     0     0     0\n",
      "      0     0     0     0     0     0     0     0     0     0     0     0\n",
      "      0     0     0     0     0     0     0     0     0     0     0     0\n",
      "      0     0     0     0     0     0     0     0     0     0     0     0\n",
      "      0     0     0     0     0     0     0     0     0     0     0     0\n",
      "      0     0     0     0     0     0     0     0     0     0     0     0\n",
      "      0     0     0     0     0     0     0     0     0     0     0     0\n",
      "      0     0     0     0     0     0     0     0     0     0     0     0\n",
      "      0     0     0     0     0     0     0     0     0     0     0     0\n",
      "      0     0     0     0     0     0     0     0     0     0     0     0\n",
      "      0     0     0     0     0     0     0     0     0     0     0     0\n",
      "      0     0     0     0     0     0     0     0     0     0     0     0\n",
      "      0     0     0     0     0     0     0     0     0     0     0     0\n",
      "      0     0     0     0     0     0     0     0     0     0     0     0\n",
      "      0     0     0     0     0     0     0     0     0     0     0     0\n",
      "      0     0     0     0     0     0     0     0     0]\n",
      " [    1    50    29     8     2 38446   625   925  2131  7008   136     4\n",
      "      9    27    10    55   231     2    84    27     3    15   902     6\n",
      "    128     2   292   548     8     9    22   236    43     7    10  1743\n",
      "     20   107   331   171 19318     2  1440     8     2    73   548     4\n",
      "   2666    12     1   131     3    23     2   881   548     4   142     7\n",
      "     36   733     6  4380  1202  1079     3   211   660     6  2880     2\n",
      "    782   548    25    70   280     7    10   731     0     0     0     0\n",
      "      0     0     0     0     0     0     0     0     0     0     0     0\n",
      "      0     0     0     0     0     0     0     0     0     0     0     0\n",
      "      0     0     0     0     0     0     0     0     0     0     0     0\n",
      "      0     0     0     0     0     0     0     0     0     0     0     0\n",
      "      0     0     0     0     0     0     0     0     0     0     0     0\n",
      "      0     0     0     0     0     0     0     0     0     0     0     0\n",
      "      0     0     0     0     0     0     0     0     0     0     0     0\n",
      "      0     0     0     0     0     0     0     0     0     0     0     0\n",
      "      0     0     0     0     0     0     0     0     0     0     0     0\n",
      "      0     0     0     0     0     0     0     0     0     0     0     0\n",
      "      0     0     0     0     0     0     0     0     0     0     0     0\n",
      "      0     0     0     0     0     0     0     0     0     0     0     0\n",
      "      0     0     0     0     0     0     0     0     0     0     0     0\n",
      "      0     0     0     0     0     0     0     0     0]\n",
      " [    2    98     4     2   358    26  1985     4 13858   219     0     0\n",
      "      0     0     0     0     0     0     0     0     0     0     0     0\n",
      "      0     0     0     0     0     0     0     0     0     0     0     0\n",
      "      0     0     0     0     0     0     0     0     0     0     0     0\n",
      "      0     0     0     0     0     0     0     0     0     0     0     0\n",
      "      0     0     0     0     0     0     0     0     0     0     0     0\n",
      "      0     0     0     0     0     0     0     0     0     0     0     0\n",
      "      0     0     0     0     0     0     0     0     0     0     0     0\n",
      "      0     0     0     0     0     0     0     0     0     0     0     0\n",
      "      0     0     0     0     0     0     0     0     0     0     0     0\n",
      "      0     0     0     0     0     0     0     0     0     0     0     0\n",
      "      0     0     0     0     0     0     0     0     0     0     0     0\n",
      "      0     0     0     0     0     0     0     0     0     0     0     0\n",
      "      0     0     0     0     0     0     0     0     0     0     0     0\n",
      "      0     0     0     0     0     0     0     0     0     0     0     0\n",
      "      0     0     0     0     0     0     0     0     0     0     0     0\n",
      "      0     0     0     0     0     0     0     0     0     0     0     0\n",
      "      0     0     0     0     0     0     0     0     0     0     0     0\n",
      "      0     0     0     0     0     0     0     0     0     0     0     0\n",
      "      0     0     0     0     0     0     0     0     0     0     0     0\n",
      "      0     0     0     0     0     0     0     0     0]]\n",
      "[array([0.00943607], dtype=float32), 'Negative']\n",
      "[array([1.0868588e-08], dtype=float32), 'Negative']\n",
      "[array([0.9999722], dtype=float32), 'Positive']\n",
      "[array([0.4071475], dtype=float32), 'Negative']\n"
     ]
    }
   ],
   "source": [
    "predict([\"I paid a premium for a new book but what arrived was dirty and had clearly been used.I paid a premium for a new book but what arrived was dirty and had clearly been used.\",\n",
    "                    \"I am using the kindle app on my ipad to view this book. However, some of the equations are just very unattractive due to the sizing issues... I gave up and decided to go back to a physical book. It would be great if this is fixed... Other people have also voiced similar concerns back last year and it's still not fixed\",\n",
    "                     \"I've read all of the predominant machine learning related python books and this one is by \\\n",
    "                        far the best one. I was excited to see the second edition of this book come out. It is packed \\\n",
    "                            with new information (1.5x the length of the first edition) and updated for TensorFlow 2. \\\n",
    "                                I have the Kindle edition and find it very helpful to highlight key points. \\\n",
    "                                    I look forward to receiving the print edition as well once it is released.\", \n",
    "                    \"The product and the box are damaged and wrinkled!!! Disappointed!!!\"])"
   ]
  },
  {
   "cell_type": "code",
   "execution_count": 35,
   "metadata": {},
   "outputs": [
    {
     "name": "stdout",
     "output_type": "stream",
     "text": [
      "249\n"
     ]
    }
   ],
   "source": [
    "print(maxlen)"
   ]
  },
  {
   "cell_type": "code",
   "execution_count": null,
   "metadata": {},
   "outputs": [],
   "source": []
  }
 ],
 "metadata": {
  "colab": {
   "collapsed_sections": [],
   "name": "RASCUNHO_1.ipynb",
   "provenance": []
  },
  "kernelspec": {
   "display_name": "Python 3 (ipykernel)",
   "language": "python",
   "name": "python3"
  },
  "language_info": {
   "codemirror_mode": {
    "name": "ipython",
    "version": 3
   },
   "file_extension": ".py",
   "mimetype": "text/x-python",
   "name": "python",
   "nbconvert_exporter": "python",
   "pygments_lexer": "ipython3",
   "version": "3.10.4"
  }
 },
 "nbformat": 4,
 "nbformat_minor": 4
}
