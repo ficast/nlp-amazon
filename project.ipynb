{
 "cells": [
  {
   "cell_type": "markdown",
   "metadata": {
    "id": "CY1uLLfIfWun"
   },
   "source": [
    "## **Fase 1: Importando dependências**"
   ]
  },
  {
   "cell_type": "code",
   "execution_count": 2,
   "metadata": {
    "id": "cZqrIhfCfuJJ"
   },
   "outputs": [],
   "source": [
    "import numpy as np\n",
    "import math\n",
    "import re\n",
    "import pandas as pd\n",
    "from bs4 import BeautifulSoup\n",
    "import csv\n",
    "import matplotlib.pyplot as plt\n",
    "# from google.colab import drive, files"
   ]
  },
  {
   "cell_type": "code",
   "execution_count": 3,
   "metadata": {
    "id": "CzH3I7jifv6e"
   },
   "outputs": [],
   "source": [
    "try:\n",
    "  %tensorflow_version 2.x\n",
    "except Exception:\n",
    "  pass\n",
    "import tensorflow as tf\n",
    "\n",
    "from tensorflow.keras import layers\n",
    "import tensorflow_datasets as tfds\n"
   ]
  },
  {
   "cell_type": "markdown",
   "metadata": {
    "id": "3SJhklSJhJm5"
   },
   "source": [
    "## **Fase 2: Preprocessamento dos Dados**"
   ]
  },
  {
   "cell_type": "markdown",
   "metadata": {
    "id": "ICVbkzIJ5Q3i"
   },
   "source": [
    "### Loading data\n"
   ]
  },
  {
   "cell_type": "code",
   "execution_count": 4,
   "metadata": {
    "colab": {
     "base_uri": "https://localhost:8080/"
    },
    "executionInfo": {
     "elapsed": 42102,
     "status": "ok",
     "timestamp": 1650262035627,
     "user": {
      "displayName": "Filipe de Castro",
      "userId": "11069743125654728085"
     },
     "user_tz": -60
    },
    "id": "EBv855ckhA5Y",
    "outputId": "839c6435-6fee-46c0-b3aa-7d53f1e214ea"
   },
   "outputs": [],
   "source": [
    "# Just required for run it in google colab\n",
    "# drive.mount('/content/drive')"
   ]
  },
  {
   "cell_type": "code",
   "execution_count": 5,
   "metadata": {
    "id": "NNkdwusgiYa_"
   },
   "outputs": [],
   "source": [
    "cols= [\"text\"]\n",
    "# path = \"/content/drive/MyDrive/projeto/Projeto II - BDI Uniasselvi/Dataset AMAZON/amazon_train.ft.txt\"\n",
    "path = \"./amazon_train.ft.txt\"\n",
    "\n",
    "f = open(path, encoding=\"latin\")\n",
    "\n",
    "data = []\n",
    "for line in f:\n",
    "    data_line = [line[9], line[11:]]\n",
    "    data.append(data_line)"
   ]
  },
  {
   "cell_type": "code",
   "execution_count": 6,
   "metadata": {
    "colab": {
     "base_uri": "https://localhost:8080/",
     "height": 269
    },
    "executionInfo": {
     "elapsed": 50,
     "status": "ok",
     "timestamp": 1650262044458,
     "user": {
      "displayName": "Filipe de Castro",
      "userId": "11069743125654728085"
     },
     "user_tz": -60
    },
    "id": "caoL4ivgnneV",
    "outputId": "1cfcc34a-cdea-4e7d-fb6c-612a51379331"
   },
   "outputs": [
    {
     "data": {
      "text/html": [
       "<div>\n",
       "<style scoped>\n",
       "    .dataframe tbody tr th:only-of-type {\n",
       "        vertical-align: middle;\n",
       "    }\n",
       "\n",
       "    .dataframe tbody tr th {\n",
       "        vertical-align: top;\n",
       "    }\n",
       "\n",
       "    .dataframe thead th {\n",
       "        text-align: right;\n",
       "    }\n",
       "</style>\n",
       "<table border=\"1\" class=\"dataframe\">\n",
       "  <thead>\n",
       "    <tr style=\"text-align: right;\">\n",
       "      <th></th>\n",
       "      <th>label</th>\n",
       "      <th>text</th>\n",
       "    </tr>\n",
       "  </thead>\n",
       "  <tbody>\n",
       "    <tr>\n",
       "      <th>0</th>\n",
       "      <td>2</td>\n",
       "      <td>Stuning even for the non-gamer: This sound tra...</td>\n",
       "    </tr>\n",
       "    <tr>\n",
       "      <th>1</th>\n",
       "      <td>2</td>\n",
       "      <td>The best soundtrack ever to anything.: I'm rea...</td>\n",
       "    </tr>\n",
       "    <tr>\n",
       "      <th>2</th>\n",
       "      <td>2</td>\n",
       "      <td>\"Amazing!: This soundtrack is my favorite musi...</td>\n",
       "    </tr>\n",
       "    <tr>\n",
       "      <th>3</th>\n",
       "      <td>2</td>\n",
       "      <td>Excellent Soundtrack: I truly like this soundt...</td>\n",
       "    </tr>\n",
       "    <tr>\n",
       "      <th>4</th>\n",
       "      <td>2</td>\n",
       "      <td>Remember, Pull Your Jaw Off The Floor After He...</td>\n",
       "    </tr>\n",
       "    <tr>\n",
       "      <th>5</th>\n",
       "      <td>2</td>\n",
       "      <td>an absolute masterpiece: I am quite sure any o...</td>\n",
       "    </tr>\n",
       "    <tr>\n",
       "      <th>6</th>\n",
       "      <td>1</td>\n",
       "      <td>\"Buyer beware: This is a self-published book, ...</td>\n",
       "    </tr>\n",
       "  </tbody>\n",
       "</table>\n",
       "</div>"
      ],
      "text/plain": [
       "  label                                               text\n",
       "0     2  Stuning even for the non-gamer: This sound tra...\n",
       "1     2  The best soundtrack ever to anything.: I'm rea...\n",
       "2     2  \"Amazing!: This soundtrack is my favorite musi...\n",
       "3     2  Excellent Soundtrack: I truly like this soundt...\n",
       "4     2  Remember, Pull Your Jaw Off The Floor After He...\n",
       "5     2  an absolute masterpiece: I am quite sure any o...\n",
       "6     1  \"Buyer beware: This is a self-published book, ..."
      ]
     },
     "execution_count": 6,
     "metadata": {},
     "output_type": "execute_result"
    }
   ],
   "source": [
    "df = pd.DataFrame(data, columns=['label', 'text'])\n",
    "df.head(7)\n"
   ]
  },
  {
   "cell_type": "markdown",
   "metadata": {
    "id": "5-vAdvNK5XZA"
   },
   "source": [
    "### Limpeza"
   ]
  },
  {
   "cell_type": "code",
   "execution_count": 7,
   "metadata": {
    "colab": {
     "base_uri": "https://localhost:8080/",
     "height": 269
    },
    "executionInfo": {
     "elapsed": 45,
     "status": "ok",
     "timestamp": 1650262044459,
     "user": {
      "displayName": "Filipe de Castro",
      "userId": "11069743125654728085"
     },
     "user_tz": -60
    },
    "id": "2ac8Nhla04Tg",
    "outputId": "637b6916-3197-442c-fc2c-9c342352bb66"
   },
   "outputs": [
    {
     "data": {
      "text/html": [
       "<div>\n",
       "<style scoped>\n",
       "    .dataframe tbody tr th:only-of-type {\n",
       "        vertical-align: middle;\n",
       "    }\n",
       "\n",
       "    .dataframe tbody tr th {\n",
       "        vertical-align: top;\n",
       "    }\n",
       "\n",
       "    .dataframe thead th {\n",
       "        text-align: right;\n",
       "    }\n",
       "</style>\n",
       "<table border=\"1\" class=\"dataframe\">\n",
       "  <thead>\n",
       "    <tr style=\"text-align: right;\">\n",
       "      <th></th>\n",
       "      <th>text</th>\n",
       "      <th>label</th>\n",
       "    </tr>\n",
       "  </thead>\n",
       "  <tbody>\n",
       "    <tr>\n",
       "      <th>0</th>\n",
       "      <td>Stuning even for the non-gamer: This sound tra...</td>\n",
       "      <td>1</td>\n",
       "    </tr>\n",
       "    <tr>\n",
       "      <th>1</th>\n",
       "      <td>The best soundtrack ever to anything.: I'm rea...</td>\n",
       "      <td>1</td>\n",
       "    </tr>\n",
       "    <tr>\n",
       "      <th>2</th>\n",
       "      <td>\"Amazing!: This soundtrack is my favorite musi...</td>\n",
       "      <td>1</td>\n",
       "    </tr>\n",
       "    <tr>\n",
       "      <th>3</th>\n",
       "      <td>Excellent Soundtrack: I truly like this soundt...</td>\n",
       "      <td>1</td>\n",
       "    </tr>\n",
       "    <tr>\n",
       "      <th>4</th>\n",
       "      <td>Remember, Pull Your Jaw Off The Floor After He...</td>\n",
       "      <td>1</td>\n",
       "    </tr>\n",
       "    <tr>\n",
       "      <th>5</th>\n",
       "      <td>an absolute masterpiece: I am quite sure any o...</td>\n",
       "      <td>1</td>\n",
       "    </tr>\n",
       "    <tr>\n",
       "      <th>6</th>\n",
       "      <td>\"Buyer beware: This is a self-published book, ...</td>\n",
       "      <td>0</td>\n",
       "    </tr>\n",
       "  </tbody>\n",
       "</table>\n",
       "</div>"
      ],
      "text/plain": [
       "                                                text  label\n",
       "0  Stuning even for the non-gamer: This sound tra...      1\n",
       "1  The best soundtrack ever to anything.: I'm rea...      1\n",
       "2  \"Amazing!: This soundtrack is my favorite musi...      1\n",
       "3  Excellent Soundtrack: I truly like this soundt...      1\n",
       "4  Remember, Pull Your Jaw Off The Floor After He...      1\n",
       "5  an absolute masterpiece: I am quite sure any o...      1\n",
       "6  \"Buyer beware: This is a self-published book, ...      0"
      ]
     },
     "execution_count": 7,
     "metadata": {},
     "output_type": "execute_result"
    }
   ],
   "source": [
    "df['label'] = np.where(df['label'] == \"2\", 1, 0)\n",
    "df = df[['text', 'label']]\n",
    "df.head(7)"
   ]
  },
  {
   "cell_type": "code",
   "execution_count": 8,
   "metadata": {
    "colab": {
     "base_uri": "https://localhost:8080/"
    },
    "executionInfo": {
     "elapsed": 40,
     "status": "ok",
     "timestamp": 1650262044460,
     "user": {
      "displayName": "Filipe de Castro",
      "userId": "11069743125654728085"
     },
     "user_tz": -60
    },
    "id": "hqUgZ1ak7-Mm",
    "outputId": "883cb8c8-894c-456c-fb65-1aa7ebea60ce"
   },
   "outputs": [
    {
     "data": {
      "text/plain": [
       "{0, 1}"
      ]
     },
     "execution_count": 8,
     "metadata": {},
     "output_type": "execute_result"
    }
   ],
   "source": [
    "data_labels = df.label.values\n",
    "set(data_labels)"
   ]
  },
  {
   "cell_type": "code",
   "execution_count": 9,
   "metadata": {
    "id": "-d3ukNMT4fdW"
   },
   "outputs": [],
   "source": [
    "def clean(text):\n",
    "  # text = BeautifulSoup(text, \"lxml\").get_text()\n",
    "  text = re.sub(r\"@[A-Za-z0-9]+\", \" \", text)\n",
    "  text = re.sub(r\"https?://[A-Za-z0-9./]+\", \" \", text)\n",
    "  text = re.sub(r\"[^A-Za-z0-9.:?!'\\\"]\", \" \", text)\n",
    "  text = re.sub(r\" +\", \" \", text)\n",
    "  return text"
   ]
  },
  {
   "cell_type": "code",
   "execution_count": 10,
   "metadata": {
    "id": "JqIYeGWz5uRl"
   },
   "outputs": [],
   "source": [
    "data_clean = [clean(line) for line in df.text]"
   ]
  },
  {
   "cell_type": "code",
   "execution_count": 11,
   "metadata": {
    "colab": {
     "base_uri": "https://localhost:8080/"
    },
    "executionInfo": {
     "elapsed": 23,
     "status": "ok",
     "timestamp": 1650262290438,
     "user": {
      "displayName": "Filipe de Castro",
      "userId": "11069743125654728085"
     },
     "user_tz": -60
    },
    "id": "W73dKrnz7Raj",
    "outputId": "001e096e-63a7-49cf-df26-08a9d5c94daa"
   },
   "outputs": [
    {
     "data": {
      "text/plain": [
       "\"Holiday Tradition: when I was growing up during the week before Thanksgiving I would pull out my copy of 'A Charlie Brown Christmas' and would watch it constantly until Christmas its one of my FAVORITE holiday movies of all time. I recently started my own tradition with my little ones by introducing them to this movie and each year as the holidays start to arrive they beg me to pull it out and we watch it every day until Christmas. \""
      ]
     },
     "execution_count": 11,
     "metadata": {},
     "output_type": "execute_result"
    }
   ],
   "source": [
    "data_clean[1093]"
   ]
  },
  {
   "cell_type": "markdown",
   "metadata": {
    "id": "XpayXlkCQ1e-"
   },
   "source": [
    "### Tokenização"
   ]
  },
  {
   "cell_type": "code",
   "execution_count": 12,
   "metadata": {
    "id": "3gsfR6z3QpoZ"
   },
   "outputs": [],
   "source": [
    "from tensorflow.keras.preprocessing.text import Tokenizer\n",
    "from tensorflow.keras.preprocessing.sequence import pad_sequences"
   ]
  },
  {
   "cell_type": "code",
   "execution_count": 13,
   "metadata": {
    "id": "_noyJwlMRz1L"
   },
   "outputs": [],
   "source": [
    "num_words = 10000\n",
    "oov_token = '<UNK>'\n",
    "pad_type = 'post'\n",
    "trunc_type = 'post'"
   ]
  },
  {
   "cell_type": "code",
   "execution_count": 14,
   "metadata": {
    "id": "cmclDbAzR6Nt"
   },
   "outputs": [],
   "source": [
    "# Tokenize our training data\n",
    "tokenizer = Tokenizer(num_words=num_words, oov_token=oov_token)\n",
    "tokenizer.fit_on_texts(data_clean)\n",
    "\n",
    "# Get our training data word index\n",
    "word_index = tokenizer.word_index\n",
    "\n",
    "# Encode training data sentences into sequences\n",
    "train_sequences = tokenizer.texts_to_sequences(data_clean)\n",
    "\n",
    "# Get max training sequence length\n",
    "maxlen = max([len(x) for x in train_sequences])\n",
    "\n",
    "# Pad the training sequences\n",
    "train_padded = pad_sequences(train_sequences, padding=pad_type, truncating=trunc_type, maxlen=maxlen)"
   ]
  },
  {
   "cell_type": "markdown",
   "metadata": {
    "id": "Elx9QqiwTrUi"
   },
   "source": [
    "### Split train / test"
   ]
  },
  {
   "cell_type": "code",
   "execution_count": 15,
   "metadata": {
    "id": "AP-spDmhSGUj"
   },
   "outputs": [],
   "source": [
    "size = len(train_padded)\n",
    "test_idx = np.random.randint(0, size, round(size/10))"
   ]
  },
  {
   "cell_type": "code",
   "execution_count": 16,
   "metadata": {
    "id": "yETq9tAiUsdi"
   },
   "outputs": [],
   "source": [
    "test_inputs = train_padded[test_idx]\n",
    "test_labels = data_labels[test_idx]"
   ]
  },
  {
   "cell_type": "code",
   "execution_count": 17,
   "metadata": {
    "id": "pXuMhVAAXeXg"
   },
   "outputs": [],
   "source": [
    "train_inputs = np.delete(train_padded, test_idx, axis=0)"
   ]
  },
  {
   "cell_type": "code",
   "execution_count": 18,
   "metadata": {
    "id": "vDoNTU66Y9oD"
   },
   "outputs": [],
   "source": [
    "train_labels = np.delete(data_labels, test_idx)"
   ]
  },
  {
   "cell_type": "markdown",
   "metadata": {
    "id": "B01Pl6yiZUQ_"
   },
   "source": [
    "## **Fase 3: Construção do Modelo**"
   ]
  },
  {
   "cell_type": "code",
   "execution_count": 19,
   "metadata": {
    "id": "Jj7k912FZTV1"
   },
   "outputs": [],
   "source": [
    "class DCNN(tf.keras.Model):\n",
    "  def __init__(self, \n",
    "               vocab_size, \n",
    "               emb_dim=128, \n",
    "               nb_filters=50, \n",
    "               FFN_units=512,\n",
    "               nb_classes=2,\n",
    "               dropout_rate=0.1,\n",
    "               training=False,\n",
    "               name=\"dcnn\"):\n",
    "    super(DCNN, self).__init__(name=name)\n",
    "\n",
    "    self.embeding = layers.Embedding(vocab_size, emb_dim)\n",
    "\n",
    "    self.bigram = layers.Conv1D(filters=nb_filters,\n",
    "                                kernel_size=2,\n",
    "                                padding=\"valid\",\n",
    "                                activation=\"relu\")\n",
    "    \n",
    "    self.pool_l = layers.GlobalMaxPool1D()\n",
    "\n",
    "    self.trigram = layers.Conv1D(filters=nb_filters,\n",
    "                                kernel_size=3,\n",
    "                                padding=\"valid\",\n",
    "                                activation=\"relu\")\n",
    "    \n",
    "    self.pool_2 = layers.GlobalMaxPool1D()\n",
    "\n",
    "    self.fourgram = layers.Conv1D(filters=nb_filters,\n",
    "                                kernel_size=4,\n",
    "                                padding=\"valid\",\n",
    "                                activation=\"relu\")\n",
    "    \n",
    "    self.pool_3 = layers.GlobalMaxPool1D()\n",
    "\n",
    "    self.dense_l = layers.Dense(units=FFN_units, \n",
    "                                activation=\"relu\")\n",
    "\n",
    "    self.dropout = layers.Dropout(rate=dropout_rate)\n",
    "\n",
    "    if nb_classes == 2:\n",
    "      self.last_dense = layers.Dense(units=1, \n",
    "                                     activation=\"sigmoid\")\n",
    "    else:\n",
    "      self.last_dense = layers.Dense(units=nb_classes,\n",
    "                                     activation=\"softmax\")\n",
    "  def call(self, inputs, training):\n",
    "    x = self.embeding(inputs)\n",
    "    x_1 = self.bigram(x)\n",
    "    x_1 = self.pool_l(x_1)\n",
    "    x_2 = self.trigram(x)\n",
    "    x_2 = self.pool_l(x_2)\n",
    "    x_3 = self.trigram(x)\n",
    "    x_3 = self.pool_l(x_3)\n",
    "\n",
    "    merged = tf.concat([x_1, x_2, x_3], axis=-1)\n",
    "    merged = self.dense_l(merged)\n",
    "    merged = self.dropout(merged, training)\n",
    "    output = self.last_dense(merged)\n",
    "\n",
    "    return output"
   ]
  },
  {
   "cell_type": "markdown",
   "metadata": {
    "id": "Yx_GMdnUdDWS"
   },
   "source": [
    "## **Fase 4: Treinamento dos dados**"
   ]
  },
  {
   "cell_type": "markdown",
   "metadata": {
    "id": "sTt0dfPoeMYA"
   },
   "source": [
    "### Config dos parâmetros"
   ]
  },
  {
   "cell_type": "code",
   "execution_count": 20,
   "metadata": {
    "id": "zzYJHNCac1-C"
   },
   "outputs": [],
   "source": [
    "VOCAB_SIZE = num_words\n",
    "\n",
    "EMB_DIM = 200\n",
    "NB_FILTERS = 100\n",
    "FFN_UNITS = 256\n",
    "NB_CLASSES = len(set(train_labels))\n",
    "\n",
    "DROPOUT_RATE = 0.2\n",
    "\n",
    "BATCH_SIZE = 32\n",
    "NB_EPOCHS = 10"
   ]
  },
  {
   "cell_type": "markdown",
   "metadata": {
    "id": "NqWnKiVMeV19"
   },
   "source": [
    "### Treino"
   ]
  },
  {
   "cell_type": "code",
   "execution_count": 21,
   "metadata": {
    "id": "TG3vYMPLeGDt"
   },
   "outputs": [
    {
     "name": "stderr",
     "output_type": "stream",
     "text": [
      "2022-04-24 20:54:17.741622: I tensorflow/core/platform/cpu_feature_guard.cc:151] This TensorFlow binary is optimized with oneAPI Deep Neural Network Library (oneDNN) to use the following CPU instructions in performance-critical operations:  AVX2 FMA\n",
      "To enable them in other operations, rebuild TensorFlow with the appropriate compiler flags.\n",
      "2022-04-24 20:54:18.290291: I tensorflow/core/common_runtime/gpu/gpu_device.cc:1525] Created device /job:localhost/replica:0/task:0/device:GPU:0 with 5750 MB memory:  -> device: 0, name: NVIDIA GeForce RTX 3070 Laptop GPU, pci bus id: 0000:01:00.0, compute capability: 8.6\n"
     ]
    }
   ],
   "source": [
    "model = DCNN(\n",
    "    vocab_size=VOCAB_SIZE, \n",
    "    emb_dim=EMB_DIM, \n",
    "    nb_filters=EMB_DIM, \n",
    "    FFN_units=FFN_UNITS,\n",
    "    nb_classes=NB_CLASSES,\n",
    "    dropout_rate=DROPOUT_RATE,\n",
    ")"
   ]
  },
  {
   "cell_type": "code",
   "execution_count": 22,
   "metadata": {
    "id": "pcZ1USiGe9NR"
   },
   "outputs": [],
   "source": [
    "if NB_CLASSES == 2:\n",
    "  model.compile(loss=\"binary_crossentropy\",\n",
    "                optimizer=\"adam\",\n",
    "                metrics=[\"accuracy\"])\n",
    "else:\n",
    "  model.compile(loss=\"sparse_categorical_crossentropy\",\n",
    "                optimizer=\"adam\",\n",
    "                metrics=[\"sparse_categorical_accuracy\"])"
   ]
  },
  {
   "cell_type": "code",
   "execution_count": 23,
   "metadata": {
    "id": "YW_mAcoFf0LO"
   },
   "outputs": [],
   "source": [
    "checkpoint_path = \"/checkpoint\"\n",
    "ckpt = tf.train.Checkpoint(model=model)\n",
    "ckpt_manager = tf.train.CheckpointManager(ckpt, checkpoint_path, max_to_keep=1)\n",
    "\n",
    "if ckpt_manager.latest_checkpoint:\n",
    "  ckpt.restore(ckpt_manager.latest_checkpoint)\n",
    "  print(\"Checkpoint carregado\")"
   ]
  },
  {
   "cell_type": "code",
   "execution_count": 24,
   "metadata": {
    "colab": {
     "base_uri": "https://localhost:8080/"
    },
    "id": "lDV7iWVrgNHX",
    "outputId": "95d86caf-1e10-47fb-fdf0-a76607e8cab6"
   },
   "outputs": [
    {
     "name": "stderr",
     "output_type": "stream",
     "text": [
      "2022-04-24 20:54:18.401195: W tensorflow/core/framework/cpu_allocator_impl.cc:82] Allocation of 944908188 exceeds 10% of free system memory.\n"
     ]
    },
    {
     "name": "stdout",
     "output_type": "stream",
     "text": [
      "Epoch 1/10\n"
     ]
    },
    {
     "name": "stderr",
     "output_type": "stream",
     "text": [
      "2022-04-24 20:54:21.217135: I tensorflow/stream_executor/cuda/cuda_dnn.cc:368] Loaded cuDNN version 8400\n",
      "2022-04-24 20:54:22.673478: I tensorflow/core/platform/default/subprocess.cc:304] Start cannot spawn child process: No such file or directory\n",
      "2022-04-24 20:54:22.765992: I tensorflow/stream_executor/cuda/cuda_blas.cc:1786] TensorFloat-32 will be used for the matrix multiplication. This will only be logged once.\n"
     ]
    },
    {
     "name": "stdout",
     "output_type": "stream",
     "text": [
      "29647/29647 [==============================] - 224s 7ms/step - loss: 0.1979 - accuracy: 0.9226\n",
      "Epoch 2/10\n",
      "29647/29647 [==============================] - 226s 8ms/step - loss: 0.1536 - accuracy: 0.9435\n",
      "Epoch 3/10\n",
      "29647/29647 [==============================] - 232s 8ms/step - loss: 0.1267 - accuracy: 0.9550\n",
      "Epoch 4/10\n",
      "29647/29647 [==============================] - 232s 8ms/step - loss: 0.1017 - accuracy: 0.9647\n",
      "Epoch 5/10\n",
      "29647/29647 [==============================] - 229s 8ms/step - loss: 0.0804 - accuracy: 0.9725\n",
      "Epoch 6/10\n",
      "29647/29647 [==============================] - 228s 8ms/step - loss: 0.0632 - accuracy: 0.9784\n",
      "Epoch 7/10\n",
      "29647/29647 [==============================] - 227s 8ms/step - loss: 0.0506 - accuracy: 0.9829\n",
      "Epoch 8/10\n",
      "29647/29647 [==============================] - 228s 8ms/step - loss: 0.0413 - accuracy: 0.9857\n",
      "Epoch 9/10\n",
      "29647/29647 [==============================] - 239s 8ms/step - loss: 0.0347 - accuracy: 0.9882\n",
      "Epoch 10/10\n",
      "29647/29647 [==============================] - 237s 8ms/step - loss: 0.0293 - accuracy: 0.9900\n"
     ]
    }
   ],
   "source": [
    "history = model.fit(train_inputs,\n",
    "          train_labels,\n",
    "          batch_size=BATCH_SIZE,\n",
    "          epochs=NB_EPOCHS)"
   ]
  },
  {
   "cell_type": "markdown",
   "metadata": {
    "id": "WblHNYjehLa2"
   },
   "source": [
    "## **Fase 5: Avaliação do modelo**"
   ]
  },
  {
   "cell_type": "code",
   "execution_count": 29,
   "metadata": {},
   "outputs": [
    {
     "name": "stdout",
     "output_type": "stream",
     "text": [
      "3277/3277 - 11s - loss: 0.4197 - accuracy: 0.9256 - 11s/epoch - 3ms/step\n"
     ]
    }
   ],
   "source": [
    "test_loss, test_acc = model.evaluate(test_inputs, test_labels, batch_size=BATCH_SIZE, verbose=2)"
   ]
  },
  {
   "cell_type": "code",
   "execution_count": 30,
   "metadata": {},
   "outputs": [
    {
     "name": "stdout",
     "output_type": "stream",
     "text": [
      "0.925556480884552\n"
     ]
    }
   ],
   "source": [
    "print(test_acc)"
   ]
  },
  {
   "cell_type": "code",
   "execution_count": 39,
   "metadata": {},
   "outputs": [],
   "source": [
    "predict_positive = tokenizer.texts_to_sequences([\"I love this\", \n",
    "                                                 \"I can buy a new one of this every year\", \n",
    "                                                 \"Definitely a good choice!\",\n",
    "                                                 \"I wanna more, this is awesome. I would like to have bought it earlier\",\n",
    "                                                 ])\n",
    "predict_padded = pad_sequences(predict_positive, padding=pad_type, truncating=trunc_type, maxlen=maxlen)\n"
   ]
  },
  {
   "cell_type": "code",
   "execution_count": 40,
   "metadata": {},
   "outputs": [
    {
     "name": "stdout",
     "output_type": "stream",
     "text": [
      "[array([0.9998785], dtype=float32), 'Positive']\n",
      "[array([0.8869326], dtype=float32), 'Positive']\n",
      "[array([0.9868096], dtype=float32), 'Positive']\n",
      "[array([0.99965215], dtype=float32), 'Positive']\n"
     ]
    }
   ],
   "source": [
    "for i in model.predict(predict_padded):\n",
    "    print([i, \"Positive\" if i > 0.5 else \"Negative\"])"
   ]
  },
  {
   "cell_type": "code",
   "execution_count": 41,
   "metadata": {},
   "outputs": [],
   "source": [
    "predict_positive = tokenizer.texts_to_sequences([\"I dont like this book, seems very silly\", \n",
    "                                                 \"I cant recommend this brand again\",\n",
    "                                                 \"Not sure if this is a good choice for you, for me its absolutely useless\",\n",
    "                                                 \"This? Just for my haters. Its impossible to make this works. I guess its the worst game Ive bought in my life\"\n",
    "                                                 ])\n",
    "predict_padded = pad_sequences(predict_positive, padding=pad_type, truncating=trunc_type, maxlen=maxlen)"
   ]
  },
  {
   "cell_type": "code",
   "execution_count": 42,
   "metadata": {},
   "outputs": [
    {
     "name": "stdout",
     "output_type": "stream",
     "text": [
      "[array([4.9001927e-09], dtype=float32), 'Negative']\n",
      "[array([1.424223e-07], dtype=float32), 'Negative']\n",
      "[array([0.0028689], dtype=float32), 'Negative']\n",
      "[array([0.01327246], dtype=float32), 'Negative']\n"
     ]
    }
   ],
   "source": [
    "for i in model.predict(predict_padded):\n",
    "    print([i, \"Positive\" if i > 0.5 else \"Negative\"])"
   ]
  },
  {
   "cell_type": "code",
   "execution_count": null,
   "metadata": {},
   "outputs": [],
   "source": []
  }
 ],
 "metadata": {
  "colab": {
   "collapsed_sections": [],
   "name": "RASCUNHO_1.ipynb",
   "provenance": []
  },
  "kernelspec": {
   "display_name": "Python 3 (ipykernel)",
   "language": "python",
   "name": "python3"
  },
  "language_info": {
   "codemirror_mode": {
    "name": "ipython",
    "version": 3
   },
   "file_extension": ".py",
   "mimetype": "text/x-python",
   "name": "python",
   "nbconvert_exporter": "python",
   "pygments_lexer": "ipython3",
   "version": "3.9.7"
  }
 },
 "nbformat": 4,
 "nbformat_minor": 4
}
